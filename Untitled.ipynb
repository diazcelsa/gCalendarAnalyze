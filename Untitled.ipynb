{
 "cells": [
  {
   "cell_type": "code",
   "execution_count": 1,
   "metadata": {
    "collapsed": false
   },
   "outputs": [],
   "source": [
    "import getweek"
   ]
  },
  {
   "cell_type": "code",
   "execution_count": 2,
   "metadata": {
    "collapsed": false
   },
   "outputs": [
    {
     "name": "stdout",
     "output_type": "stream",
     "text": [
      "2016-01-02T00:02:03.693716+01:00 2015-12-26T00:02:03.693716+01:00\n",
      "Getting the upcoming 10 events\n"
     ]
    }
   ],
   "source": [
    "df = getweek.main()"
   ]
  },
  {
   "cell_type": "code",
   "execution_count": 3,
   "metadata": {
    "collapsed": false
   },
   "outputs": [
    {
     "data": {
      "text/html": [
       "<div>\n",
       "<table border=\"1\" class=\"dataframe\">\n",
       "  <thead>\n",
       "    <tr style=\"text-align: right;\">\n",
       "      <th></th>\n",
       "      <th>summary</th>\n",
       "      <th>start</th>\n",
       "      <th>end</th>\n",
       "    </tr>\n",
       "  </thead>\n",
       "  <tbody>\n",
       "    <tr>\n",
       "      <th>0</th>\n",
       "      <td>test</td>\n",
       "      <td>2015-12-30T17:00:00+01:00</td>\n",
       "      <td>2015-12-30T19:30:00+01:00</td>\n",
       "    </tr>\n",
       "    <tr>\n",
       "      <th>1</th>\n",
       "      <td>#heyhey</td>\n",
       "      <td>2015-12-30T19:30:00+01:00</td>\n",
       "      <td>2015-12-30T20:30:00+01:00</td>\n",
       "    </tr>\n",
       "    <tr>\n",
       "      <th>2</th>\n",
       "      <td>#standuprelaxed</td>\n",
       "      <td>2015-12-30T20:30:00+01:00</td>\n",
       "      <td>2015-12-30T22:00:00+01:00</td>\n",
       "    </tr>\n",
       "    <tr>\n",
       "      <th>3</th>\n",
       "      <td>#noagression</td>\n",
       "      <td>2015-12-30T22:30:00+01:00</td>\n",
       "      <td>2015-12-30T23:30:00+01:00</td>\n",
       "    </tr>\n",
       "  </tbody>\n",
       "</table>\n",
       "</div>"
      ],
      "text/plain": [
       "           summary                      start                        end\n",
       "0             test  2015-12-30T17:00:00+01:00  2015-12-30T19:30:00+01:00\n",
       "1          #heyhey  2015-12-30T19:30:00+01:00  2015-12-30T20:30:00+01:00\n",
       "2  #standuprelaxed  2015-12-30T20:30:00+01:00  2015-12-30T22:00:00+01:00\n",
       "3     #noagression  2015-12-30T22:30:00+01:00  2015-12-30T23:30:00+01:00"
      ]
     },
     "execution_count": 3,
     "metadata": {},
     "output_type": "execute_result"
    }
   ],
   "source": [
    "df"
   ]
  },
  {
   "cell_type": "code",
   "execution_count": null,
   "metadata": {
    "collapsed": true
   },
   "outputs": [],
   "source": []
  }
 ],
 "metadata": {
  "kernelspec": {
   "display_name": "Python 3",
   "language": "python",
   "name": "python3"
  },
  "language_info": {
   "codemirror_mode": {
    "name": "ipython",
    "version": 3
   },
   "file_extension": ".py",
   "mimetype": "text/x-python",
   "name": "python",
   "nbconvert_exporter": "python",
   "pygments_lexer": "ipython3",
   "version": "3.4.3"
  }
 },
 "nbformat": 4,
 "nbformat_minor": 0
}
