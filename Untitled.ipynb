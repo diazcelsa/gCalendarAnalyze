{
 "cells": [
  {
   "cell_type": "code",
   "execution_count": 1,
   "metadata": {
    "collapsed": false
   },
   "outputs": [],
   "source": [
    "import getweek"
   ]
  },
  {
   "cell_type": "code",
   "execution_count": 2,
   "metadata": {
    "collapsed": false
   },
   "outputs": [
    {
     "name": "stdout",
     "output_type": "stream",
     "text": [
      "Getting the upcoming 10 events\n"
     ]
    }
   ],
   "source": [
    "df = getweek.main()"
   ]
  },
  {
   "cell_type": "code",
   "execution_count": 11,
   "metadata": {
    "collapsed": false
   },
   "outputs": [],
   "source": [
    "df['timedelta'] = df.end - df.start\n",
    "df['time_min'] = df['timedelta'].astype('timedelta64[m]').astype('int')\n",
    "df['hashtags'] = df.summary.str.extract('.*#(.*)')"
   ]
  },
  {
   "cell_type": "code",
   "execution_count": 12,
   "metadata": {
    "collapsed": false
   },
   "outputs": [
    {
     "data": {
      "text/html": [
       "<div>\n",
       "<table border=\"1\" class=\"dataframe\">\n",
       "  <thead>\n",
       "    <tr style=\"text-align: right;\">\n",
       "      <th></th>\n",
       "      <th>start</th>\n",
       "      <th>colorId</th>\n",
       "      <th>end</th>\n",
       "      <th>summary</th>\n",
       "      <th>timedelta</th>\n",
       "      <th>time_min</th>\n",
       "      <th>hashtags</th>\n",
       "    </tr>\n",
       "  </thead>\n",
       "  <tbody>\n",
       "    <tr>\n",
       "      <th>0</th>\n",
       "      <td>2015-12-30 16:00:00</td>\n",
       "      <td>None</td>\n",
       "      <td>2015-12-30 18:30:00</td>\n",
       "      <td>test</td>\n",
       "      <td>02:30:00</td>\n",
       "      <td>150</td>\n",
       "      <td>NaN</td>\n",
       "    </tr>\n",
       "    <tr>\n",
       "      <th>1</th>\n",
       "      <td>2015-12-30 18:30:00</td>\n",
       "      <td>None</td>\n",
       "      <td>2015-12-30 19:30:00</td>\n",
       "      <td>#heyhey</td>\n",
       "      <td>01:00:00</td>\n",
       "      <td>60</td>\n",
       "      <td>heyhey</td>\n",
       "    </tr>\n",
       "    <tr>\n",
       "      <th>2</th>\n",
       "      <td>2015-12-30 19:30:00</td>\n",
       "      <td>None</td>\n",
       "      <td>2015-12-30 21:00:00</td>\n",
       "      <td>#standuprelaxed</td>\n",
       "      <td>01:30:00</td>\n",
       "      <td>90</td>\n",
       "      <td>standuprelaxed</td>\n",
       "    </tr>\n",
       "    <tr>\n",
       "      <th>3</th>\n",
       "      <td>2015-12-30 21:30:00</td>\n",
       "      <td>None</td>\n",
       "      <td>2015-12-30 22:30:00</td>\n",
       "      <td>#noagression</td>\n",
       "      <td>01:00:00</td>\n",
       "      <td>60</td>\n",
       "      <td>noagression</td>\n",
       "    </tr>\n",
       "  </tbody>\n",
       "</table>\n",
       "</div>"
      ],
      "text/plain": [
       "                start colorId                 end          summary  timedelta  \\\n",
       "0 2015-12-30 16:00:00    None 2015-12-30 18:30:00             test   02:30:00   \n",
       "1 2015-12-30 18:30:00    None 2015-12-30 19:30:00          #heyhey   01:00:00   \n",
       "2 2015-12-30 19:30:00    None 2015-12-30 21:00:00  #standuprelaxed   01:30:00   \n",
       "3 2015-12-30 21:30:00    None 2015-12-30 22:30:00     #noagression   01:00:00   \n",
       "\n",
       "   time_min        hashtags  \n",
       "0       150             NaN  \n",
       "1        60          heyhey  \n",
       "2        90  standuprelaxed  \n",
       "3        60     noagression  "
      ]
     },
     "execution_count": 12,
     "metadata": {},
     "output_type": "execute_result"
    }
   ],
   "source": [
    "df"
   ]
  },
  {
   "cell_type": "code",
   "execution_count": null,
   "metadata": {
    "collapsed": true
   },
   "outputs": [],
   "source": []
  }
 ],
 "metadata": {
  "kernelspec": {
   "display_name": "Python 3",
   "language": "python",
   "name": "python3"
  },
  "language_info": {
   "codemirror_mode": {
    "name": "ipython",
    "version": 3
   },
   "file_extension": ".py",
   "mimetype": "text/x-python",
   "name": "python",
   "nbconvert_exporter": "python",
   "pygments_lexer": "ipython3",
   "version": "3.4.3"
  }
 },
 "nbformat": 4,
 "nbformat_minor": 0
}
